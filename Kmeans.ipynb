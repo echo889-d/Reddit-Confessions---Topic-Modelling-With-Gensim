{
 "cells": [
  {
   "cell_type": "code",
   "execution_count": 55,
   "id": "05279c04",
   "metadata": {},
   "outputs": [],
   "source": [
    "from sklearn.feature_extraction.text import TfidfVectorizer\n",
    "from ast import literal_eval\n",
    "import pandas as pd\n",
    "from sklearn.cluster import KMeans, MiniBatchKMeans\n",
    "from gensim.models import TfidfModel\n",
    "import matplotlib.pyplot as plt\n",
    "from sklearn.decomposition import TruncatedSVD\n",
    "from sklearn.preprocessing import Normalizer\n",
    "from sklearn.metrics import silhouette_score"
   ]
  },
  {
   "cell_type": "code",
   "execution_count": 2,
   "id": "f0fad1ce",
   "metadata": {},
   "outputs": [],
   "source": [
    "tokenized_doc =pd.read_csv(\"tokenized.csv\")"
   ]
  },
  {
   "cell_type": "code",
   "execution_count": 3,
   "id": "f06d4892",
   "metadata": {},
   "outputs": [],
   "source": [
    "tokenized_doc['Content'] = tokenized_doc['Content'].apply(literal_eval)"
   ]
  },
  {
   "cell_type": "code",
   "execution_count": 4,
   "id": "2f5b1faa",
   "metadata": {},
   "outputs": [
    {
     "data": {
      "text/plain": [
       "0         [horrible, children, first, preschool, always,...\n",
       "1         [friends, fantasy, friends, probably, go, make...\n",
       "2         [cameras, sons, apartment, watch, life, detail...\n",
       "3         [drive, little, high, something, always, promi...\n",
       "4         [steal, little, sister, shop, lie, long, time,...\n",
       "                                ...                        \n",
       "427462    [person, best, friend, trust, share, mental, h...\n",
       "427463    [dfiareahh, mannn, sexcond, verse, diaraeah, m...\n",
       "427464    [always, wonder, side, pant, dicks, rest, natu...\n",
       "427465    [anyone, thingsuse, items, remind, bluf, avoid...\n",
       "427466                                 [wait, inlaws, feel]\n",
       "Name: Content, Length: 427467, dtype: object"
      ]
     },
     "execution_count": 4,
     "metadata": {},
     "output_type": "execute_result"
    }
   ],
   "source": [
    "tokenized_doc['Content']"
   ]
  },
  {
   "cell_type": "code",
   "execution_count": 17,
   "id": "4e84551b",
   "metadata": {},
   "outputs": [],
   "source": [
    "from gensim import corpora\n",
    "# Creating the term dictionary of our courpus, where every unique term is assigned an index. dictionary = corpora.Dictionary(doc_clean)\n",
    "dictionary = corpora.Dictionary(tokenized_doc['Content'])\n",
    "# Converting list of documents (corpus) into Document Term Matrix using dictionary prepared above.\n",
    "corpus = [dictionary.doc2bow(doc) for doc in tokenized_doc['Content']]"
   ]
  },
  {
   "cell_type": "code",
   "execution_count": 23,
   "id": "4168ff46",
   "metadata": {},
   "outputs": [],
   "source": [
    "tf_model = TfidfModel(corpus)"
   ]
  },
  {
   "cell_type": "code",
   "execution_count": 24,
   "id": "1e0de8fe",
   "metadata": {},
   "outputs": [],
   "source": [
    "vector = tf_model[corpus] "
   ]
  },
  {
   "cell_type": "code",
   "execution_count": 40,
   "id": "2aab7f43",
   "metadata": {},
   "outputs": [],
   "source": [
    "from gensim.matutils import corpus2dense, corpus2csc\n",
    "num_docs = dictionary.num_docs\n",
    "num_terms = len(dictionary.keys())\n",
    "#corpus_tfidf_dense = corpus2dense(vector, num_terms, num_docs)\n",
    "corpus_tfidf_sparse = corpus2csc(vector, num_terms=num_terms, num_docs=num_docs)"
   ]
  },
  {
   "cell_type": "code",
   "execution_count": 82,
   "id": "7f2ac34d",
   "metadata": {},
   "outputs": [],
   "source": [
    "num_clusters = 10\n",
    "km = MiniBatchKMeans(n_clusters=num_clusters)\n",
    "km.fit(corpus_tfidf_sparse.T)\n",
    "clusters = km.labels_.tolist()"
   ]
  },
  {
   "cell_type": "code",
   "execution_count": 86,
   "id": "c9f21828",
   "metadata": {},
   "outputs": [],
   "source": [
    "cluster_labels = km.fit_predict(corpus_tfidf_sparse.T)"
   ]
  },
  {
   "cell_type": "code",
   "execution_count": 91,
   "id": "46d8db72",
   "metadata": {},
   "outputs": [],
   "source": [
    "corpus_t = corpus_tfidf_sparse.T"
   ]
  },
  {
   "cell_type": "code",
   "execution_count": 92,
   "id": "47119945",
   "metadata": {},
   "outputs": [
    {
     "name": "stdout",
     "output_type": "stream",
     "text": [
      "415231.774164082\n",
      "414180.8268394545\n",
      "413335.45377974986\n",
      "412650.92113722995\n",
      "412222.1450855177\n",
      "411470.4838375799\n",
      "410920.5868468535\n",
      "410417.9372602412\n",
      "409510.24842201394\n",
      "409730.0463682391\n",
      "408917.2672571361\n",
      "408410.75368144945\n",
      "408060.4868391073\n",
      "407415.6274736868\n",
      "406921.5251890077\n",
      "407109.873799447\n",
      "406147.69347331004\n",
      "406045.53077083343\n",
      "406085.6142319309\n",
      "405182.5594894002\n",
      "404754.88901841064\n",
      "404641.6130402454\n",
      "404310.26720562915\n",
      "403849.0543282288\n"
     ]
    }
   ],
   "source": [
    "inertia_list = []\n",
    "K_list = range(2,50,2)\n",
    "for i in K_list:\n",
    "    KM = MiniBatchKMeans(n_clusters=i,batch_size=5000)\n",
    "    KM.fit(corpus_t)\n",
    "    inertia_list.append(KM.inertia_)\n",
    "    print(KM.inertia_)"
   ]
  },
  {
   "cell_type": "code",
   "execution_count": 94,
   "id": "2b75d9e9",
   "metadata": {
    "scrolled": false
   },
   "outputs": [
    {
     "data": {
      "image/png": "[encoded data removed]",
      "text/plain": [
       "<Figure size 720x288 with 1 Axes>"
      ]
     },
     "metadata": {
      "needs_background": "light"
     },
     "output_type": "display_data"
    }
   ],
   "source": [
    "plt.figure(figsize=(10,4))\n",
    "plt.plot(range(2,50,2), inertia_list, 'o-', markersize=7, markerfacecolor='black')\n",
    "plt.xlabel('n_clusters'); plt.ylabel('Inertia'); plt.title('K-Means Elbow Technique')\n",
    "plt.hlines(y = (inertia_list[9]), xmin=K_list[0], xmax=K_list[-1], color = 'r', linestyles = 'dashed')\n",
    "plt.show()"
   ]
  },
  {
   "cell_type": "code",
   "execution_count": 100,
   "id": "ae94a9b8",
   "metadata": {},
   "outputs": [
    {
     "data": {
      "text/plain": [
       "20"
      ]
     },
     "execution_count": 100,
     "metadata": {},
     "output_type": "execute_result"
    }
   ],
   "source": [
    "n = K_list[9]\n",
    "n"
   ]
  },
  {
   "cell_type": "code",
   "execution_count": 101,
   "id": "8e17847b",
   "metadata": {},
   "outputs": [
    {
     "data": {
      "text/plain": [
       "MiniBatchKMeans(batch_size=5000, n_clusters=20)"
      ]
     },
     "execution_count": 101,
     "metadata": {},
     "output_type": "execute_result"
    }
   ],
   "source": [
    "num_clusters = n\n",
    "km = MiniBatchKMeans(n_clusters=n,batch_size=5000)\n",
    "km.fit(corpus_t)"
   ]
  },
  {
   "cell_type": "code",
   "execution_count": 128,
   "id": "bf75c095",
   "metadata": {},
   "outputs": [],
   "source": [
    "y = km.predict(corpus_t)"
   ]
  },
  {
   "cell_type": "code",
   "execution_count": 129,
   "id": "6838db41",
   "metadata": {},
   "outputs": [
    {
     "data": {
      "text/plain": [
       "array([11,  4,  6, 11, 14,  6, 15,  6, 11, 11])"
      ]
     },
     "execution_count": 129,
     "metadata": {},
     "output_type": "execute_result"
    }
   ],
   "source": [
    "y[:10]"
   ]
  },
  {
   "cell_type": "code",
   "execution_count": 131,
   "id": "4fcba1ee",
   "metadata": {},
   "outputs": [
    {
     "data": {
      "text/plain": [
       "array([11,  4,  6, 11, 14,  6, 15,  6, 11, 11])"
      ]
     },
     "execution_count": 131,
     "metadata": {},
     "output_type": "execute_result"
    }
   ],
   "source": [
    "y2 = y.copy()"
   ]
  },
  {
   "cell_type": "code",
   "execution_count": null,
   "id": "5f70ad1c",
   "metadata": {},
   "outputs": [],
   "source": [
    "## View cluster 3, 8, 14, 19"
   ]
  },
  {
   "cell_type": "code",
   "execution_count": 132,
   "id": "fd37077b",
   "metadata": {},
   "outputs": [],
   "source": [
    "c3 = []\n",
    "c8 = []\n",
    "c14 = []\n",
    "c19 = []\n",
    "for i,s in enumerate(y2):\n",
    "    if s == 3:\n",
    "        c3.append(i)\n",
    "    elif s == 8:\n",
    "        c8.append(i)\n",
    "    elif s == 14:\n",
    "        c14.append(i)\n",
    "    elif s == 19:\n",
    "        c19.append(i)"
   ]
  },
  {
   "cell_type": "code",
   "execution_count": 133,
   "id": "7aa53d65",
   "metadata": {},
   "outputs": [
    {
     "name": "stdout",
     "output_type": "stream",
     "text": [
      "621     [people, hurt, take, hurt, people, nothing, so...\n",
      "2569    [drugsalcohol, escape, sorry, anything, spell,...\n",
      "2590    [steal, stuff, recently, get, steal, love, rus...\n",
      "2950    [today, relapse, months, control, addiction, t...\n",
      "3293    [open, letter, address, happen, minutes, live,...\n",
      "3473    [pretend, someone, fuck, literal, fake, someon...\n",
      "3512    [suck, fuck, ladyboys, cock, bottom, suck, coc...\n",
      "3642    [piss, dump, window, night, house, arrest, mon...\n",
      "3669    [gigantic, commitment, issue, probably, think,...\n",
      "3674    [love, bitch, exactly, title, say, love, compa...\n",
      "Name: Content, dtype: object\n"
     ]
    }
   ],
   "source": [
    "print(tokenized_doc['Content'][c3[:10]])"
   ]
  },
  {
   "cell_type": "code",
   "execution_count": 134,
   "id": "a5c8c56a",
   "metadata": {},
   "outputs": [
    {
     "name": "stdout",
     "output_type": "stream",
     "text": [
      "50     [steal, money, parent, credit, card, trick, sa...\n",
      "140    [use, collect, people, personal, data, address...\n",
      "158    [steal, people, steal, account, sell, kind, kl...\n",
      "196    [scammed, 65000, worth, virtual, items, find, ...\n",
      "260    [modify, late, night, fee, store, keep, money,...\n",
      "293    [buy, things, without, permission, parent, car...\n",
      "362    [share, innocent, picture, strangers, feel, li...\n",
      "412    [lie, blame, someone, else, mistake, make, str...\n",
      "418    [years, steal, money, sisters, title, imply, s...\n",
      "429    [bully, friend, fake, account, middle, school,...\n",
      "Name: Content, dtype: object\n"
     ]
    }
   ],
   "source": [
    "print(tokenized_doc['Content'][c8[:10]])"
   ]
  },
  {
   "cell_type": "code",
   "execution_count": 135,
   "id": "1f8dbe93",
   "metadata": {},
   "outputs": [
    {
     "name": "stdout",
     "output_type": "stream",
     "text": [
      "4      [steal, little, sister, shop, lie, long, time,...\n",
      "28     [kick, hole, drywall, bathroom, things, angry,...\n",
      "69     [use, steal, younger, pass, away, younger, use...\n",
      "71     [join, bully, order, protect, take, place, aro...\n",
      "100    [steal, things, sister, cherish, destroy, noti...\n",
      "126    [regularly, steal, potato, chip, nearby, conve...\n",
      "176    [fake, asthma, attack, admit, hospital, child,...\n",
      "177    [steal, money, aunt, still, grade, still, grad...\n",
      "183    [lie, school, best, friend, expel, backstory, ...\n",
      "209    [cheat, test, hate, little, backstory, parent,...\n",
      "Name: Content, dtype: object\n"
     ]
    }
   ],
   "source": [
    "print(tokenized_doc['Content'][c14[:10]])"
   ]
  },
  {
   "cell_type": "code",
   "execution_count": 136,
   "id": "84e05f02",
   "metadata": {
    "scrolled": true
   },
   "outputs": [
    {
     "name": "stdout",
     "output_type": "stream",
     "text": [
      "116     [work, sneak, conference, room, steal, good, d...\n",
      "342     [spike, entire, offices, coffee, supply, decaf...\n",
      "597     [suppose, log, hours, home, today, even, look,...\n",
      "1178    [steal, 5000, first, become, manager, work, lo...\n",
      "1372    [drink, dads, half, half, go, teenager, colleg...\n",
      "1458    [friend, mix, teachers, coffee, smoothie, toge...\n",
      "1900    [use, steal, parent, liquor, cabinet, parent, ...\n",
      "2127    [use, steal, coffee, 1819, move, east, coast, ...\n",
      "2170    [use, grandmothers, debit, card, without, perm...\n",
      "2194    [charge, people, alcoholic, drink, small, conf...\n",
      "Name: Content, dtype: object\n"
     ]
    }
   ],
   "source": [
    "print(tokenized_doc['Content'][c19[:10]])"
   ]
  },
  {
   "cell_type": "code",
   "execution_count": 137,
   "id": "6350fbef",
   "metadata": {},
   "outputs": [
    {
     "data": {
      "text/plain": [
       "(427467,)"
      ]
     },
     "execution_count": 137,
     "metadata": {},
     "output_type": "execute_result"
    }
   ],
   "source": [
    "y.shape"
   ]
  },
  {
   "cell_type": "code",
   "execution_count": 138,
   "id": "045f0e18",
   "metadata": {},
   "outputs": [
    {
     "data": {
      "text/plain": [
       "-0.0003168840175878326"
      ]
     },
     "execution_count": 138,
     "metadata": {},
     "output_type": "execute_result"
    }
   ],
   "source": [
    "silhouette_avg = silhouette_score(corpus_t, y)\n",
    "silhouette_avg"
   ]
  },
  {
   "cell_type": "code",
   "execution_count": null,
   "id": "e5f068a0",
   "metadata": {},
   "outputs": [],
   "source": [
    "# https://www.aifinesse.com/k-means/k-means-tuning/#:~:text=Tuning%20is%20a%20crucial%20aspect%20of%20K-Means%20implementations,require%20analyst%20or%20scientist%20to%20adjust%20n_clustersmultiple%20times."
   ]
  }
 ],
 "metadata": {
  "kernelspec": {
   "display_name": "Python 3 (ipykernel)",
   "language": "python",
   "name": "python3"
  },
  "language_info": {
   "codemirror_mode": {
    "name": "ipython",
    "version": 3
   },
   "file_extension": ".py",
   "mimetype": "text/x-python",
   "name": "python",
   "nbconvert_exporter": "python",
   "pygments_lexer": "ipython3",
   "version": "3.9.7"
  }
 },
 "nbformat": 4,
 "nbformat_minor": 5
}
